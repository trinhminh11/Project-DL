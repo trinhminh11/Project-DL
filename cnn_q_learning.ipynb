{
 "cells": [
  {
   "cell_type": "code",
   "execution_count": 1,
   "metadata": {},
   "outputs": [
    {
     "name": "stdout",
     "output_type": "stream",
     "text": [
      "pygame 2.5.2 (SDL 2.28.2, Python 3.11.0)\n",
      "Hello from the pygame community. https://www.pygame.org/contribute.html\n"
     ]
    }
   ],
   "source": [
    "# Standard library imports\n",
    "import random\n",
    "from typing import Type\n",
    "\n",
    "# Third-party imports\n",
    "import torch\n",
    "from torch import Tensor, nn\n",
    "import torch.optim as optim\n",
    "import torch.nn.functional as F\n",
    "import numpy as np\n",
    "import gymnasium as gym\n",
    "from tqdm.notebook import tqdm_notebook as tqdm\n",
    "\n",
    "import gym_agent as ga\n",
    "\n",
    "# Local imports\n",
    "import utils"
   ]
  },
  {
   "cell_type": "code",
   "execution_count": 2,
   "metadata": {},
   "outputs": [],
   "source": [
    "n_games = 1000\n",
    "max_t = 1500\n",
    "n_envs = 1\n",
    "chkpt_dir = 'checkpoints/BetterCarRacing-v0/CNN_DQN'\n",
    "\n",
    "env_id = \"BetterCarRacing-v0\"\n",
    "\n",
    "seed = 110404\n",
    "\n",
    "die_if_grass = True"
   ]
  },
  {
   "cell_type": "code",
   "execution_count": 3,
   "metadata": {},
   "outputs": [
    {
     "name": "stdout",
     "output_type": "stream",
     "text": [
      "Setting seeds ...... \n",
      "\n"
     ]
    }
   ],
   "source": [
    "utils.set_random_seed(seed)"
   ]
  },
  {
   "cell_type": "code",
   "execution_count": 4,
   "metadata": {},
   "outputs": [],
   "source": [
    "gym.register(\n",
    "    id=env_id,\n",
    "    entry_point=\"better_car_racing:BetterCarRacing\",\n",
    "    max_episode_steps=max_t,\n",
    "    reward_threshold=900,\n",
    "    disable_env_checker=True,\n",
    "    order_enforce=False\n",
    ")"
   ]
  },
  {
   "cell_type": "code",
   "execution_count": 5,
   "metadata": {},
   "outputs": [],
   "source": [
    "class ConvBn(nn.Module):\n",
    "\t'''\n",
    "\tConvolution + BatchNorm + ReLu (+ MaxPool)\n",
    "\n",
    "\tkeeping the size of input, if Maxpool, reduce the size by half\n",
    "\t'''\n",
    "\tdef __init__(self, in_channels, out_channels, kernel_size = 3, stride = 1, padding = 1, pool=False) -> None:\n",
    "\t\t'''\n",
    "\t\tConvolution + BatchNorm + ReLu (+ MaxPool)\n",
    "\n",
    "\t\tkeeping the size of input, if Maxpool, reduce the size by half\n",
    "\t\t'''\n",
    "\t\tsuper().__init__()\n",
    "\t\tself.Conv = nn.Conv2d(in_channels, out_channels, kernel_size=kernel_size, stride=stride, padding=padding)\n",
    "\t\tself.Bn = nn.BatchNorm2d(out_channels)\n",
    "\t\tself.act = nn.ReLU(inplace=True)\n",
    "\t\t\n",
    "\t\tif pool:\n",
    "\t\t\tself.pool = nn.MaxPool2d(2)\n",
    "\t\telse:\n",
    "\t\t\tself.pool = nn.Identity()\n",
    "\n",
    "\tdef forward(self, X: Tensor):\n",
    "\t\tout = self.Conv(X)\n",
    "\t\tout = self.Bn(out)\n",
    "\t\tout = self.act(out)\n",
    "\t\tout = self.pool(out)\n",
    "\t\treturn out"
   ]
  },
  {
   "cell_type": "code",
   "execution_count": 6,
   "metadata": {},
   "outputs": [],
   "source": [
    "class DeepQNetwork(nn.Module):\n",
    "    def __init__(self, in_channels: int, n_vector: int, n_actions: int, filters: list[int] = [16, 32, 64], fc: list[int] = [256]) -> None:\n",
    "        super().__init__()\n",
    "\n",
    "        self.initial = ConvBn(in_channels, filters[0], 8, 4, 2)\n",
    "\n",
    "        self.conv = nn.Sequential()\n",
    "\n",
    "        for i in range(len(filters)-1):\n",
    "            self.conv.append(ConvBn(filters[i], filters[i+1], pool=True))\n",
    "        \n",
    "        self.conv.append(nn.AdaptiveMaxPool2d((4, 4)))\n",
    "\n",
    "        self.conv.append(nn.Flatten())\n",
    "\n",
    "        self.fcs = nn.Sequential(\n",
    "            nn.Linear(4*4*filters[-1] + n_vector, fc[0]),\n",
    "            nn.ReLU(),\n",
    "            nn.Linear(fc[0], n_actions)\n",
    "        )\n",
    "\n",
    "    def forward(self, state: dict[str, torch.Tensor]) -> torch.Tensor:\n",
    "        image = state['image']\n",
    "        vector = state['vector']\n",
    "\n",
    "        image_encoded = self.initial(image)\n",
    "        image_encoded = self.conv(image_encoded)\n",
    "\n",
    "        inp_vector = torch.cat([image_encoded, vector], dim=1)\n",
    "\n",
    "        return self.fcs(inp_vector)"
   ]
  },
  {
   "cell_type": "code",
   "execution_count": 7,
   "metadata": {},
   "outputs": [],
   "source": [
    "class Policy(nn.Module):\n",
    "    def __init__(self, in_channels: int, n_vector: int, n_actions: int, filters: list[int], fcs: list[int], optimizer: Type[optim.Optimizer] = optim.Adam, lr: float = 5e-4, optimizer_kwargs: dict = None):\n",
    "        super().__init__()\n",
    "        self.network = DeepQNetwork(in_channels, n_vector, n_actions, filters, fcs)\n",
    "        self.target_network = DeepQNetwork(in_channels, n_vector, n_actions, filters, fcs)\n",
    "        self.soft_update(tau=1)\n",
    "\n",
    "        if optimizer_kwargs is None:\n",
    "            optimizer_kwargs = {}\n",
    "        \n",
    "        self.optimizer = optimizer(self.network.parameters(), lr=lr, **optimizer_kwargs)\n",
    "\n",
    "    def forward(self, state: dict[str, torch.Tensor]) -> torch.Tensor:\n",
    "        return self.network(state)\n",
    "\n",
    "    def target_forward(self, state: dict[str, torch.Tensor]) -> torch.Tensor:\n",
    "        return self.target_network(state)\n",
    "\n",
    "    def soft_update(self, tau: float):\n",
    "        for target_param, param in zip(self.target_network.parameters(), self.network.parameters()):\n",
    "            target_param.data.copy_(tau * param.data + (1.0 - tau) * target_param.data)"
   ]
  },
  {
   "cell_type": "code",
   "execution_count": 8,
   "metadata": {},
   "outputs": [],
   "source": [
    "class CNN_DQN(ga.OffPolicyAgent):\n",
    "    policy: Policy\n",
    "    def __init__(\n",
    "            self, \n",
    "            policy, \n",
    "            env,    \n",
    "            action_space,\n",
    "            gamma = 0.99,\n",
    "            eps_start = 1.0,\n",
    "            eps_decay = 0.995,\n",
    "            eps_end = 0.01,\n",
    "            tau = 1e-3,\n",
    "            batch_size = 64, \n",
    "            buffer_size = int(1e4),\n",
    "            update_every = 1, \n",
    "            device='auto', \n",
    "            seed=None\n",
    "        ):\n",
    "\n",
    "        super().__init__(policy, env, buffer_size=buffer_size, batch_size=batch_size, update_every=update_every, device=device, seed=seed)\n",
    "\n",
    "        self.action_space = action_space\n",
    "\n",
    "        self.gamma = gamma\n",
    "        self.eps_start = eps_start\n",
    "        self.eps_decay = eps_decay\n",
    "        self.eps_end = eps_end\n",
    "\n",
    "        # Soft update parameter\n",
    "        self.tau = tau\n",
    "\n",
    "\n",
    "        # Initialize epsilon for epsilon-greedy policy\n",
    "        self.eps = eps_start\n",
    "\n",
    "        self.add_optimizer('policy', self.policy.optimizer)\n",
    "        self.add_save_kwargs('eps')\n",
    "\n",
    "    def reset(self):\n",
    "        self.eps = max(self.eps_end, self.eps_decay * self.eps)\n",
    "\n",
    "    @torch.no_grad()\n",
    "    def predict(self, state: dict[str, np.ndarray], deterministic = True) -> int:\n",
    "        # Determine epsilon value based on evaluation mode\n",
    "        if deterministic:\n",
    "            eps = 0\n",
    "        else:\n",
    "            eps = self.eps\n",
    "\n",
    "        # Epsilon-greedy action selection\n",
    "        if random.random() >= eps:\n",
    "\n",
    "            _state = {}\n",
    "\n",
    "            for key, value in state.items():\n",
    "                _state[key] = torch.from_numpy(value).float().to(self.device)\n",
    "\n",
    "            # Set local model to evaluation mode\n",
    "            self.policy.eval()\n",
    "            # Get action values from the local model\n",
    "            action_value = self.policy.forward(_state)\n",
    "            # Set local model back to training mode\n",
    "            self.policy.train()\n",
    "\n",
    "            # Return the action with the highest value\n",
    "            return np.argmax(action_value.cpu().data.numpy(), axis=1)\n",
    "        else:\n",
    "            # Return a random action from the action space\n",
    "            return [random.choice(self.action_space) for _ in range(state['image'].shape[0])]\n",
    "\n",
    "    def learn(self, states: dict[str, Tensor], actions: Tensor, rewards: Tensor, next_states: Tensor, terminals: Tensor):\n",
    "        \"\"\"\n",
    "        Update the value network using a batch of experience tuples.\n",
    "\n",
    "        Params\n",
    "        ======\n",
    "            states (Tensor): Batch of current states\n",
    "            actions (Tensor): Batch of actions taken\n",
    "            rewards (Tensor): Batch of rewards received\n",
    "            next_states (Tensor): Batch of next states\n",
    "            terminals (Tensor): Batch of terminal flags indicating episode end\n",
    "        \"\"\"\n",
    "\n",
    "        # Get the maximum predicted Q values for the next states from the target model\n",
    "        q_targets_next = self.policy.target_forward(next_states).detach().max(1)[0]\n",
    "        # Compute the Q targets for the current states\n",
    "        q_targets = rewards + (self.gamma * q_targets_next * (~terminals))\n",
    "\n",
    "        # Get the expected Q values from the local model\n",
    "        q_expected = self.policy.forward(states)\n",
    "\n",
    "        q_expected = q_expected.gather(1, actions.long()).squeeze(1)\n",
    "\n",
    "        # Compute the loss\n",
    "        loss = F.smooth_l1_loss(q_expected, q_targets)\n",
    "\n",
    "        # Minimize the loss\n",
    "        self.policy.optimizer.zero_grad()\n",
    "        loss.backward()\n",
    "        self.policy.optimizer.step()\n",
    "\n",
    "        # Update the target network\n",
    "        self.soft_update()\n",
    "\n",
    "    def soft_update(self, tau = None):\n",
    "        if tau is None:\n",
    "            tau = self.tau\n",
    "\n",
    "        self.policy.soft_update(tau)"
   ]
  },
  {
   "cell_type": "markdown",
   "metadata": {},
   "source": [
    "### Transform"
   ]
  },
  {
   "cell_type": "code",
   "execution_count": 9,
   "metadata": {},
   "outputs": [],
   "source": [
    "class StateTfm(ga.Transform):\n",
    "    def __init__(self, n_frame=4):\n",
    "        super().__init__()\n",
    "\n",
    "        self.observation_space = gym.spaces.Dict({\n",
    "            'image': gym.spaces.Box(low=0, high=1, shape=(n_frame, 96, 96), dtype=np.float32),\n",
    "            'vector': gym.spaces.Box(low=-np.inf, high=np.inf, shape=(7, ), dtype=np.float32),\n",
    "        })\n",
    "\n",
    "        self.n_frame = n_frame\n",
    "\n",
    "        self.frames = {'image': np.zeros((self.n_frame, 96, 96), dtype=np.float32), 'vector': np.zeros((7, ), dtype=np.float32)}\n",
    "\n",
    "        self.start = False\n",
    "\n",
    "    def __call__(self, observation: dict[str, np.ndarray]) -> np.ndarray:\n",
    "        image = observation['image'].astype(np.float32).transpose([2, 0, 1]) # n_envs, 3, 96, 96\n",
    "        r, g, b = image[0], image[1], image[1]\n",
    "        gray_image = 0.2989 * r + 0.5870 * g + 0.1140 * b\n",
    "\n",
    "        vels = observation['vels'].astype(np.float32)\n",
    "        # res = np.concatenate([rays, vels], axis=-1)\n",
    "\n",
    "        if self.start:\n",
    "            self.frames['image'][0] = gray_image\n",
    "            self.frames['image'] = np.roll(self.frames['image'], shift=-1, axis=0)\n",
    "            \n",
    "        else:\n",
    "            for i in range(self.n_frame):\n",
    "                self.frames['image'][i] = gray_image\n",
    "\n",
    "        self.frames['vector'] = vels\n",
    "\n",
    "        self.start = True\n",
    "\n",
    "        return self.frames\n",
    "\n",
    "    def reset(self, **kwargs):\n",
    "        self.frames = {'image': np.zeros((self.n_frame, 96, 96), dtype=np.float32), 'vector': np.zeros((7, ), dtype=np.float32)}\n",
    "\n",
    "        self.start = False"
   ]
  },
  {
   "cell_type": "code",
   "execution_count": 10,
   "metadata": {},
   "outputs": [],
   "source": [
    "class SkipFrame(gym.Wrapper):\n",
    "    def __init__(self, env, skip):\n",
    "        super().__init__(env)\n",
    "        self._skip = skip\n",
    "\n",
    "    def step(self, action):\n",
    "        total_reward = 0.0\n",
    "        for _ in range(self._skip):\n",
    "            if self.unwrapped.render_mode == 'human':\n",
    "                self.unwrapped.render()\n",
    "            state, reward, terminated, truncated, info = self.env.step(action)\n",
    "            total_reward += reward\n",
    "            if terminated:\n",
    "                break\n",
    "        return state, total_reward, terminated, truncated, info"
   ]
  },
  {
   "cell_type": "markdown",
   "metadata": {},
   "source": [
    "### train"
   ]
  },
  {
   "cell_type": "code",
   "execution_count": 11,
   "metadata": {},
   "outputs": [],
   "source": [
    "env = ga.make(env_id, observation_transform=StateTfm(), continuous=False, die_if_grass = die_if_grass)"
   ]
  },
  {
   "cell_type": "code",
   "execution_count": 12,
   "metadata": {},
   "outputs": [],
   "source": [
    "env.add_wrapper(SkipFrame, skip=4)"
   ]
  },
  {
   "cell_type": "code",
   "execution_count": 13,
   "metadata": {},
   "outputs": [],
   "source": [
    "agent = CNN_DQN(\n",
    "    policy = Policy(4, 7, 5, filters=[16, 32, 64], fcs=[256]).apply(utils.init_weights('kaiming')),\n",
    "    env = env,\n",
    "    action_space = list(range(5)),\n",
    "    gamma=0.99,\n",
    "    eps_start=1.0,\n",
    "    eps_decay=0.995,\n",
    "    eps_end=0.01,\n",
    "    tau=1e-3,\n",
    "    batch_size=64,\n",
    "    update_every=4,\n",
    "    device='auto',\n",
    "    seed=seed\n",
    ").to('cuda')\n"
   ]
  },
  {
   "cell_type": "code",
   "execution_count": 14,
   "metadata": {},
   "outputs": [],
   "source": [
    "agent.load(chkpt_dir, 'best')"
   ]
  },
  {
   "cell_type": "code",
   "execution_count": 15,
   "metadata": {},
   "outputs": [
    {
     "data": {
      "application/vnd.jupyter.widget-view+json": {
       "model_id": "d34f267cd46c466b9f7dd42c8c09c186",
       "version_major": 2,
       "version_minor": 0
      },
      "text/plain": [
       "  0%|          | 0/1008 [00:00<?, ?it/s]"
      ]
     },
     "metadata": {},
     "output_type": "display_data"
    }
   ],
   "source": [
    "agent.fit(n_games=2000, deterministic=False, save_best=True, save_every=100, save_dir=chkpt_dir, progress_bar=tqdm)"
   ]
  },
  {
   "cell_type": "code",
   "execution_count": 16,
   "metadata": {},
   "outputs": [
    {
     "data": {
      "image/png": "[encoded data removed]",
      "text/plain": [
       "<Figure size 640x480 with 1 Axes>"
      ]
     },
     "metadata": {},
     "output_type": "display_data"
    }
   ],
   "source": [
    "agent.plot_scores()"
   ]
  },
  {
   "cell_type": "code",
   "execution_count": 62,
   "metadata": {},
   "outputs": [
    {
     "data": {
      "text/plain": [
       "800.0000000000042"
      ]
     },
     "execution_count": 62,
     "metadata": {},
     "output_type": "execute_result"
    }
   ],
   "source": [
    "env = ga.make(env_id, render_mode = 'human', observation_transform=StateTfm(), continuous=False, die_if_grass = True, lap_complete_percent = 1)\n",
    "env.add_wrapper(SkipFrame, skip=4)\n",
    "agent.load(chkpt_dir, \"best\")\n",
    "agent.play(env, stop_if_truncated=True)"
   ]
  },
  {
   "cell_type": "code",
   "execution_count": null,
   "metadata": {},
   "outputs": [],
   "source": [
    "agent.load(chkpt_dir, \"best\")\n",
    "import pygame\n",
    "\n",
    "pygame.init()\n",
    "score = 0\n",
    "obs = env.reset(seed=seed)[0]\n",
    "agent.reset()\n",
    "\n",
    "done = False\n",
    "while not done:\n",
    "    env.render()\n",
    "    action = agent.predict({'image': np.expand_dims(obs['image'], 0), 'vector': np.expand_dims(obs['vector'], 0)}, True)\n",
    "    print(action)\n",
    "    next_obs, reward, terminated, truncated, info = env.step(action[0])\n",
    "\n",
    "    done = terminated\n",
    "\n",
    "    done = done or truncated\n",
    "\n",
    "    obs = next_obs\n",
    "\n",
    "    score += env.env_reward\n",
    "\n",
    "    for event in pygame.event.get():\n",
    "        if event.type == pygame.QUIT:\n",
    "            done = True\n",
    "\n",
    "pygame.quit()\n"
   ]
  },
  {
   "cell_type": "code",
   "execution_count": 8,
   "metadata": {},
   "outputs": [],
   "source": [
    "obs = env.reset()[0]"
   ]
  },
  {
   "cell_type": "code",
   "execution_count": 9,
   "metadata": {},
   "outputs": [],
   "source": [
    "import matplotlib.pyplot as plt"
   ]
  },
  {
   "cell_type": "code",
   "execution_count": null,
   "metadata": {},
   "outputs": [],
   "source": [
    "plt.imshow(env.render())\n",
    "plt.savefig(\"test.png\")"
   ]
  },
  {
   "cell_type": "code",
   "execution_count": null,
   "metadata": {},
   "outputs": [],
   "source": []
  }
 ],
 "metadata": {
  "kernelspec": {
   "display_name": "PyTorchRL",
   "language": "python",
   "name": "python3"
  },
  "language_info": {
   "codemirror_mode": {
    "name": "ipython",
    "version": 3
   },
   "file_extension": ".py",
   "mimetype": "text/x-python",
   "name": "python",
   "nbconvert_exporter": "python",
   "pygments_lexer": "ipython3",
   "version": "3.11.0"
  }
 },
 "nbformat": 4,
 "nbformat_minor": 2
}
