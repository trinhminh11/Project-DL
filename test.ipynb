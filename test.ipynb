{
 "cells": [
  {
   "cell_type": "code",
   "execution_count": 1,
   "metadata": {},
   "outputs": [
    {
     "name": "stderr",
     "output_type": "stream",
     "text": [
      "llama_model_load: loading model from './consolidated.00.pth' - please wait ...\n",
      "llama_model_load: invalid model file './consolidated.00.pth' (bad magic)\n",
      "llama_init_from_file: failed to load model\n"
     ]
    }
   ],
   "source": [
    "from llama_cpp import Llama\n",
    "\n",
    "llm = Llama.from(\n",
    "      model_path=\"./consolidated.00.pth\",\n",
    "      # n_gpu_layers=-1, # Uncomment to use GPU acceleration\n",
    "      # seed=1337, # Uncomment to set a specific seed\n",
    "      # n_ctx=2048, # Uncomment to increase the context window\n",
    ")\n",
    "# output = llm(\n",
    "#       \"Q: Name the planets in the solar system? A: \", # Prompt\n",
    "#       max_tokens=32, # Generate up to 32 tokens, set to None to generate up to the end of the context window\n",
    "#       stop=[\"Q:\", \"\\n\"], # Stop generating just before the model would generate a new question\n",
    "#       echo=True # Echo the prompt back in the output\n",
    "# ) # Generate a completion, can also call create_completion\n",
    "# print(output)"
   ]
  },
  {
   "cell_type": "code",
   "execution_count": 6,
   "metadata": {},
   "outputs": [],
   "source": [
    "import torch\n",
    "import torch.nn as nn"
   ]
  },
  {
   "cell_type": "code",
   "execution_count": 7,
   "metadata": {},
   "outputs": [],
   "source": [
    "m = nn.Embedding(10, 10)"
   ]
  },
  {
   "cell_type": "code",
   "execution_count": 8,
   "metadata": {},
   "outputs": [
    {
     "data": {
      "text/plain": [
       "tensor([[ 1.1080e+00,  2.3990e+00,  3.7260e-01, -1.2064e-02,  2.3638e-03,\n",
       "          1.2547e+00,  6.0816e-01,  1.6328e-01, -1.3759e+00, -1.3005e+00],\n",
       "        [-4.0400e-01,  1.6964e+00,  2.3527e-01, -7.1545e-01,  5.1790e-01,\n",
       "          1.7598e+00,  2.8223e-01,  9.9228e-01,  2.0947e+00, -6.9816e-01],\n",
       "        [-9.0392e-01, -6.1099e-01, -8.6636e-01,  1.5774e+00, -4.1404e-01,\n",
       "          2.3536e+00, -3.2265e-02, -7.3413e-01,  1.1747e+00, -4.0400e-01],\n",
       "        [ 9.3893e-01, -4.6900e-01, -4.9119e-02, -3.9043e-01, -2.1407e-01,\n",
       "         -9.1177e-01,  1.3817e+00,  6.2605e-01, -8.5402e-01,  6.7681e-01],\n",
       "        [-5.3627e-01,  6.7520e-01,  3.0195e-01,  1.6034e+00, -5.2389e-02,\n",
       "          2.2967e+00,  9.4347e-01,  5.6058e-01, -7.8017e-01, -1.7674e+00],\n",
       "        [ 8.5855e-02, -2.5166e+00,  3.3606e-01,  1.6362e+00,  9.8973e-01,\n",
       "          6.5018e-01, -2.7263e-01, -1.1889e+00, -2.5518e-01, -6.8659e-01],\n",
       "        [-6.6832e-01,  9.1300e-01, -5.8341e-01, -9.4565e-02,  5.1778e-01,\n",
       "          1.0077e+00, -1.1011e+00,  9.8973e-02, -3.2910e-01,  1.0154e+00],\n",
       "        [ 2.8659e-01, -1.0913e-01, -2.8040e-01, -6.0766e-01, -1.1479e-01,\n",
       "         -8.3978e-01, -3.8214e-01,  3.4103e-01, -5.6871e-02, -2.3039e+00],\n",
       "        [ 8.7591e-01, -2.2210e-01,  8.6122e-01, -3.0161e-01, -3.4134e-01,\n",
       "         -9.1013e-01,  1.7966e-01, -6.6013e-01,  8.5293e-01,  1.5712e+00],\n",
       "        [-3.1338e+00,  1.5344e-01,  1.3915e+00,  6.0212e-01,  5.5728e-01,\n",
       "          3.9334e-01, -5.4291e-01,  1.2412e+00,  4.4201e-01, -1.8658e-02]],\n",
       "       grad_fn=<EmbeddingBackward0>)"
      ]
     },
     "execution_count": 8,
     "metadata": {},
     "output_type": "execute_result"
    }
   ],
   "source": [
    "m(torch.tensor([1,2,3,4,5,6,7,8,9,0]))"
   ]
  },
  {
   "cell_type": "code",
   "execution_count": null,
   "metadata": {},
   "outputs": [],
   "source": []
  }
 ],
 "metadata": {
  "kernelspec": {
   "display_name": "PyTorchRL",
   "language": "python",
   "name": "python3"
  },
  "language_info": {
   "codemirror_mode": {
    "name": "ipython",
    "version": 3
   },
   "file_extension": ".py",
   "mimetype": "text/x-python",
   "name": "python",
   "nbconvert_exporter": "python",
   "pygments_lexer": "ipython3",
   "version": "3.11.0"
  }
 },
 "nbformat": 4,
 "nbformat_minor": 2
}
