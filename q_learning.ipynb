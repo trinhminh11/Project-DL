{
 "cells": [
  {
   "cell_type": "code",
   "execution_count": 1,
   "metadata": {},
   "outputs": [
    {
     "name": "stdout",
     "output_type": "stream",
     "text": [
      "pygame 2.5.2 (SDL 2.28.2, Python 3.11.0)\n",
      "Hello from the pygame community. https://www.pygame.org/contribute.html\n"
     ]
    }
   ],
   "source": [
    "# Standard library imports\n",
    "import random\n",
    "\n",
    "# Third-party imports\n",
    "import torch\n",
    "from torch import Tensor, nn\n",
    "import torch.optim as optim\n",
    "import torch.nn.functional as F\n",
    "import numpy as np\n",
    "import gymnasium as gym\n",
    "from tqdm.notebook import tqdm_notebook as tqdm\n",
    "\n",
    "import gym_agent as ga\n",
    "\n",
    "# Local imports\n",
    "import utils"
   ]
  },
  {
   "cell_type": "code",
   "execution_count": 2,
   "metadata": {},
   "outputs": [],
   "source": [
    "gym.register(\n",
    "    id=\"ModifiedCarRacing-v0\",\n",
    "    entry_point=\"CarRacing.car_racing:ModifiedCarRacing\",\n",
    "    reward_threshold=900,\n",
    ")"
   ]
  },
  {
   "cell_type": "code",
   "execution_count": 3,
   "metadata": {},
   "outputs": [],
   "source": [
    "n_games, max_t = 500, 1000\n",
    "chkpt_dir = 'checkpoints/'\n",
    "\n",
    "env_id = 'ModifiedCarRacing-v0'\n",
    "\n",
    "seed = 110404\n",
    "\n",
    "die_if_grass = True"
   ]
  },
  {
   "cell_type": "code",
   "execution_count": 4,
   "metadata": {},
   "outputs": [],
   "source": [
    "class DeepQNetwork(nn.Module):\n",
    "    def __init__(self, n_inp: int, features: list[int], n_actions: int):\n",
    "        super().__init__()\n",
    "\n",
    "        # Create a list of layer sizes including input, hidden, and output layers\n",
    "        layer_sizes = [n_inp] + features + [n_actions]\n",
    "\n",
    "        # Initialize an empty sequential container\n",
    "        self.net = nn.Sequential()\n",
    "\n",
    "        # Loop through the layer sizes to create the network\n",
    "        for i in range(len(layer_sizes) - 1):\n",
    "            # Add a linear layer\n",
    "            self.net.append(nn.Linear(layer_sizes[i], layer_sizes[i + 1]))\n",
    "            \n",
    "            # Add ReLU activation function for all layers except the last one\n",
    "            if i != len(layer_sizes) - 2:\n",
    "                self.net.append(nn.ReLU(inplace=True))\n",
    "\n",
    "    def forward(self, state: torch.Tensor) -> torch.Tensor:\n",
    "        # Pass the input state through the network\n",
    "        return self.net(state)"
   ]
  },
  {
   "cell_type": "code",
   "execution_count": 5,
   "metadata": {},
   "outputs": [],
   "source": [
    "class DQN_CAR(ga.AgentBase):\n",
    "    def __init__(\n",
    "            self,\n",
    "            gamma: float,\n",
    "            lr: float,\n",
    "            state_shape: int,\n",
    "            action_shape: int,\n",
    "            action_space: int,\n",
    "            batch_size: int,\n",
    "            update_every: int,\n",
    "            eps_start: float = 1.0,\n",
    "            eps_decay: float = 0.995,\n",
    "            eps_end: float = 0.01,\n",
    "            buffer_size: int = 100000,\n",
    "            device: str = 'cuda' if torch.cuda.is_available() else 'cpu',\n",
    "            seed: int = 0,\n",
    "    ) -> None:\n",
    "        super().__init__(state_shape, action_shape, batch_size, False, update_every, buffer_size, device, seed)\n",
    "\n",
    "        self.gamma = gamma\n",
    "        self.action_space = action_space\n",
    "        self.update_every = update_every\n",
    "        self.eps_start = eps_start\n",
    "        self.eps_decay = eps_decay\n",
    "        self.eps_end = eps_end\n",
    "        self.device = device\n",
    "        self.seed = seed\n",
    "\n",
    "        # Soft update parameter\n",
    "        self.tau = 1e-3\n",
    "\n",
    "        # Local model for action value estimation\n",
    "        self.local_model = DeepQNetwork(n_inp=state_shape[0], features=[256, 256], n_actions=len(action_space)).to(device)\n",
    "        # Target model for action value estimation\n",
    "        self.target_model = DeepQNetwork(n_inp=state_shape[0], features=[256, 256], n_actions=len(action_space)).to(device)\n",
    "        # Optimizer for the local model\n",
    "        self.optimizer = optim.Adam(self.local_model.parameters(), lr)\n",
    "\n",
    "        # Initialize time step for updating every 'update_every' steps\n",
    "        self.time_step = 0\n",
    "        # Initialize epsilon for epsilon-greedy policy\n",
    "        self.eps = eps_start\n",
    "\n",
    "    def reset(self):\n",
    "        self.eps = max(self.eps_end, self.eps_decay * self.eps)\n",
    "\n",
    "    @torch.no_grad()\n",
    "    def act(self, state: np.ndarray) -> int:\n",
    "        # Determine epsilon value based on evaluation mode\n",
    "        if self.eval:\n",
    "            eps = 0\n",
    "        else:\n",
    "            eps = self.eps\n",
    "\n",
    "        # Epsilon-greedy action selection\n",
    "        if random.random() >= eps:\n",
    "            # Convert state to tensor and move to the appropriate device\n",
    "            state = torch.from_numpy(state).float().unsqueeze(0).to(self.device)\n",
    "\n",
    "            # Set local model to evaluation mode\n",
    "            self.local_model.eval()\n",
    "            # Get action values from the local model\n",
    "            action_value = self.local_model(state)\n",
    "            # Set local model back to training mode\n",
    "            self.local_model.train()\n",
    "\n",
    "            # Return the action with the highest value\n",
    "            return np.argmax(action_value.cpu().data.numpy())\n",
    "        else:\n",
    "            # Return a random action from the action space\n",
    "            return random.choice(self.action_space)\n",
    "\n",
    "    def learn(self, states: Tensor, actions: Tensor, rewards: Tensor, next_states: Tensor, terminals: Tensor):\n",
    "        # Get the maximum predicted Q values for the next states from the target model\n",
    "        q_targets_next = self.target_model(next_states).detach().max(1)[0].unsqueeze(1)\n",
    "\n",
    "        # Compute the Q targets for the current states\n",
    "        q_targets = rewards + (self.gamma * q_targets_next * (~terminals))\n",
    "\n",
    "        # Get the expected Q values from the local model\n",
    "        q_expected = self.local_model(states).gather(1, actions.long())\n",
    "\n",
    "        # Compute the loss\n",
    "        loss = F.mse_loss(q_expected, q_targets)\n",
    "\n",
    "        # Minimize the loss\n",
    "        self.optimizer.zero_grad()\n",
    "        loss.backward()\n",
    "        self.optimizer.step()\n",
    "\n",
    "        # Update the target network\n",
    "        self.soft_update()\n",
    "\n",
    "    def soft_update(self):\n",
    "        for target_param, local_param in zip(self.target_model.parameters(), self.local_model.parameters()):\n",
    "            target_param.data.copy_(self.tau * local_param.data + (1.0 - self.tau) * target_param.data)"
   ]
  },
  {
   "cell_type": "markdown",
   "metadata": {},
   "source": [
    "### Transform"
   ]
  },
  {
   "cell_type": "code",
   "execution_count": 6,
   "metadata": {},
   "outputs": [],
   "source": [
    "class StateTfm(ga.Transform):\n",
    "    def __init__(self):\n",
    "        super().__init__()\n",
    "        # self.observation_space = gym.spaces.Dict({\n",
    "        #     'state': gym.spaces.Box(low=0, high=1, shape=(1, 96, 96), dtype=np.float32),\n",
    "        #     'additional_info': gym.spaces.Box(low=0, high=np.inf, shape=(14,), dtype=np.float32),\n",
    "        # })\n",
    "\n",
    "        self.observation_space = gym.spaces.Box(low=0, high=np.inf, shape=(14,), dtype=np.float32)\n",
    "\n",
    "    def __call__(self, observation) -> np.ndarray:\n",
    "        rays = observation['rays']\n",
    "        vels = observation['vels']\n",
    "\n",
    "        res = np.concatenate([rays, vels])\n",
    "        return res"
   ]
  },
  {
   "cell_type": "code",
   "execution_count": 12,
   "metadata": {},
   "outputs": [],
   "source": [
    "class RewardTfm(ga.Transform):\n",
    "    def __init__(self, time_penalty_min: float = 1e-5, time_penalty: float = 0.0001):\n",
    "        super().__init__()\n",
    "        self.t = 0\n",
    "        self.time_penalty = time_penalty\n",
    "    \n",
    "    def __call__(self, observation, reward):\n",
    "        self.t += 1\n",
    "        return reward - self.time_penalty * self.t\n",
    "    \n",
    "    def reset(self):\n",
    "        self.t = 0"
   ]
  },
  {
   "cell_type": "markdown",
   "metadata": {},
   "source": [
    "### train"
   ]
  },
  {
   "cell_type": "code",
   "execution_count": 8,
   "metadata": {},
   "outputs": [],
   "source": [
    "env = ga.make('ModifiedCarRacing-v0', continuous=False, die_if_grass = die_if_grass)"
   ]
  },
  {
   "cell_type": "code",
   "execution_count": 9,
   "metadata": {},
   "outputs": [],
   "source": [
    "env.set_observation_transform(StateTfm())\n",
    "# env.set_reward_transform(RewardTfm())"
   ]
  },
  {
   "cell_type": "code",
   "execution_count": 10,
   "metadata": {},
   "outputs": [],
   "source": [
    "agent = DQN_CAR(\n",
    "    gamma=0.99,\n",
    "    lr=5e-4,\n",
    "    state_shape=env.observation_space.shape,\n",
    "    action_shape=(1, ),\n",
    "    action_space=range(env.action_space.n),\n",
    "    batch_size=64,\n",
    "    update_every=4,\n",
    "    eps_start=1.0,\n",
    "    eps_decay=0.995,\n",
    "    eps_end=0.01,\n",
    "    buffer_size=100000,\n",
    "    device='cuda',\n",
    "    seed=seed,\n",
    ")"
   ]
  },
  {
   "cell_type": "code",
   "execution_count": 12,
   "metadata": {},
   "outputs": [
    {
     "data": {
      "application/vnd.jupyter.widget-view+json": {
       "model_id": "641587a3bce34a709447171fe9272420",
       "version_major": 2,
       "version_minor": 0
      },
      "text/plain": [
       "  0%|          | 0/1000 [00:00<?, ?it/s]"
      ]
     },
     "metadata": {},
     "output_type": "display_data"
    }
   ],
   "source": [
    "scores = agent.fit(env, 1000, 1000, True, False, chkpt_dir, tqdm)"
   ]
  },
  {
   "cell_type": "code",
   "execution_count": 15,
   "metadata": {},
   "outputs": [
    {
     "data": {
      "image/jpeg": "[encoded data removed]",
      "image/png": "[encoded data removed]",
      "text/plain": [
       "<PIL.Image.Image image mode=RGB size=600x400>"
      ]
     },
     "metadata": {},
     "output_type": "display_data"
    }
   ],
   "source": [
    "env = ga.make('ModifiedCarRacing-v0', render_mode = 'rgb_array', continuous=False, die_if_grass = False, lap_complete_percent = 1)\n",
    "env.set_observation_transform(StateTfm())\n",
    "# env.set_reward_transform(RewardTfm())\n",
    "\n",
    "agent.load('checkpoints')\n",
    "agent.play_jupyter(env, stop_if_truncated=True)"
   ]
  },
  {
   "cell_type": "code",
   "execution_count": 7,
   "metadata": {},
   "outputs": [],
   "source": [
    "env = ga.make('ModifiedCarRacing-v0', render_mode='rgb_array', continuous=False, die_if_grass = die_if_grass)\n",
    "# env.set_observation_transform(StateTfm())\n",
    "# env.set_reward_transform(RewardTfm())"
   ]
  },
  {
   "cell_type": "code",
   "execution_count": 14,
   "metadata": {},
   "outputs": [
    {
     "data": {
      "application/vnd.jupyter.widget-view+json": {
       "model_id": "37838c8e30914f738efb0ba099f21c77",
       "version_major": 2,
       "version_minor": 0
      },
      "text/plain": [
       "  0%|          | 0/1000 [00:00<?, ?it/s]"
      ]
     },
     "metadata": {},
     "output_type": "display_data"
    },
    {
     "name": "stdout",
     "output_type": "stream",
     "text": [
      "Unexpected exception formatting exception. Falling back to standard exception\n"
     ]
    },
    {
     "name": "stderr",
     "output_type": "stream",
     "text": [
      "Traceback (most recent call last):\n",
      "  File \"/home/fool/.local/lib/python3.11/site-packages/IPython/core/interactiveshell.py\", line 3550, in run_code\n",
      "    exec(code_obj, self.user_global_ns, self.user_ns)\n",
      "  File \"/tmp/ipykernel_10634/275713337.py\", line 1, in <module>\n",
      "    scores = agent.fit(env, 1000, 1000, False, False, chkpt_dir, tqdm)\n",
      "             ^^^^^^^^^^^^^^^^^^^^^^^^^^^^^^^^^^^^^^^^^^^^^^^^^^^^^^^^^\n",
      "  File \"/home/fool/Documents/code/Project/DL/Project/gym_agent/agent/agent_base.py\", line 230, in fit\n",
      "    score = self.train_on_episode(env, max_t, callbacks)\n",
      "            ^^^^^^^^^^^^^^^^^^^^^^^^^^^^^^^^^^^^^^^^^^^^\n",
      "  File \"/home/fool/Documents/code/Project/DL/Project/gym_agent/agent/agent_base.py\", line 180, in train_on_episode\n",
      "    next_obs, reward, reward_tfm, terminal, truncated, info = env.step(action)\n",
      "                                                              ^^^^^^^^^^^^^^^^\n",
      "  File \"/home/fool/Documents/code/Project/DL/Project/gym_agent/utils.py\", line 307, in step\n",
      "    observation, reward, terminated, truncated, info = self.env.step(self.action(action))\n",
      "                                                       ^^^^^^^^^^^^^^^^^^^^^^^^^^^^^^^^^^\n",
      "  File \"/home/fool/anaconda3/envs/PyTorchRL/lib/python3.11/site-packages/gymnasium/wrappers/order_enforcing.py\", line 56, in step\n",
      "    return self.env.step(action)\n",
      "           ^^^^^^^^^^^^^^^^^^^^^\n",
      "  File \"/home/fool/anaconda3/envs/PyTorchRL/lib/python3.11/site-packages/gymnasium/wrappers/env_checker.py\", line 51, in step\n",
      "    return self.env.step(action)\n",
      "           ^^^^^^^^^^^^^^^^^^^^^\n",
      "  File \"/home/fool/Documents/code/Project/DL/Project/CarRacing/car_racing.py\", line 628, in step\n",
      "    self.state = {'image': self._render(\"state_pixels\"), 'rays': self.rays_value, 'vels': self.vels}\n",
      "                           ^^^^^^^^^^^^^^^^^^^^^^^^^^^^\n",
      "  File \"/home/fool/Documents/code/Project/DL/Project/CarRacing/car_racing.py\", line 701, in _render\n",
      "    self._render_road(zoom, trans, angle, mode)\n",
      "  File \"/home/fool/Documents/code/Project/DL/Project/CarRacing/car_racing.py\", line 814, in _render_road\n",
      "    self.rays[i].cast(walls)\n",
      "  File \"/home/fool/Documents/code/Project/DL/Project/CarRacing/ray_tracing.py\", line -1, in cast\n",
      "KeyboardInterrupt\n",
      "\n",
      "During handling of the above exception, another exception occurred:\n",
      "\n",
      "Traceback (most recent call last):\n",
      "  File \"/home/fool/.local/lib/python3.11/site-packages/IPython/core/interactiveshell.py\", line 2144, in showtraceback\n",
      "    stb = self.InteractiveTB.structured_traceback(\n",
      "          ^^^^^^^^^^^^^^^^^^^^^^^^^^^^^^^^^^^^^^^^\n",
      "  File \"/home/fool/.local/lib/python3.11/site-packages/IPython/core/ultratb.py\", line 1435, in structured_traceback\n",
      "    return FormattedTB.structured_traceback(\n",
      "           ^^^^^^^^^^^^^^^^^^^^^^^^^^^^^^^^^\n",
      "  File \"/home/fool/.local/lib/python3.11/site-packages/IPython/core/ultratb.py\", line 1326, in structured_traceback\n",
      "    return VerboseTB.structured_traceback(\n",
      "           ^^^^^^^^^^^^^^^^^^^^^^^^^^^^^^^\n",
      "  File \"/home/fool/.local/lib/python3.11/site-packages/IPython/core/ultratb.py\", line 1173, in structured_traceback\n",
      "    formatted_exception = self.format_exception_as_a_whole(etype, evalue, etb, number_of_lines_of_context,\n",
      "                          ^^^^^^^^^^^^^^^^^^^^^^^^^^^^^^^^^^^^^^^^^^^^^^^^^^^^^^^^^^^^^^^^^^^^^^^^^^^^^^^^\n",
      "  File \"/home/fool/.local/lib/python3.11/site-packages/IPython/core/ultratb.py\", line 1088, in format_exception_as_a_whole\n",
      "    frames.append(self.format_record(record))\n",
      "                  ^^^^^^^^^^^^^^^^^^^^^^^^^^\n",
      "  File \"/home/fool/.local/lib/python3.11/site-packages/IPython/core/ultratb.py\", line 970, in format_record\n",
      "    frame_info.lines, Colors, self.has_colors, lvals\n",
      "    ^^^^^^^^^^^^^^^^\n",
      "  File \"/home/fool/.local/lib/python3.11/site-packages/IPython/core/ultratb.py\", line 792, in lines\n",
      "    return self._sd.lines\n",
      "           ^^^^^^^^^^^^^^\n",
      "  File \"/home/fool/.local/lib/python3.11/site-packages/stack_data/utils.py\", line 145, in cached_property_wrapper\n",
      "    value = obj.__dict__[self.func.__name__] = self.func(obj)\n",
      "                                               ^^^^^^^^^^^^^^\n",
      "  File \"/home/fool/.local/lib/python3.11/site-packages/stack_data/core.py\", line 734, in lines\n",
      "    pieces = self.included_pieces\n",
      "             ^^^^^^^^^^^^^^^^^^^^\n",
      "  File \"/home/fool/.local/lib/python3.11/site-packages/stack_data/utils.py\", line 145, in cached_property_wrapper\n",
      "    value = obj.__dict__[self.func.__name__] = self.func(obj)\n",
      "                                               ^^^^^^^^^^^^^^\n",
      "  File \"/home/fool/.local/lib/python3.11/site-packages/stack_data/core.py\", line 681, in included_pieces\n",
      "    pos = scope_pieces.index(self.executing_piece)\n",
      "                             ^^^^^^^^^^^^^^^^^^^^\n",
      "  File \"/home/fool/.local/lib/python3.11/site-packages/stack_data/utils.py\", line 145, in cached_property_wrapper\n",
      "    value = obj.__dict__[self.func.__name__] = self.func(obj)\n",
      "                                               ^^^^^^^^^^^^^^\n",
      "  File \"/home/fool/.local/lib/python3.11/site-packages/stack_data/core.py\", line 660, in executing_piece\n",
      "    return only(\n",
      "           ^^^^^\n",
      "  File \"/home/fool/.local/lib/python3.11/site-packages/executing/executing.py\", line 116, in only\n",
      "    raise NotOneValueFound('Expected one value, found 0')\n",
      "executing.executing.NotOneValueFound: Expected one value, found 0\n"
     ]
    }
   ],
   "source": [
    "scores = agent.fit(env, 1000, 1000, False, False, chkpt_dir, tqdm)"
   ]
  },
  {
   "cell_type": "code",
   "execution_count": 8,
   "metadata": {},
   "outputs": [],
   "source": [
    "obs = env.reset()[0]"
   ]
  },
  {
   "cell_type": "code",
   "execution_count": 9,
   "metadata": {},
   "outputs": [],
   "source": [
    "import matplotlib.pyplot as plt"
   ]
  },
  {
   "cell_type": "code",
   "execution_count": 11,
   "metadata": {},
   "outputs": [
    {
     "data": {
      "image/png": "[encoded data removed]",
      "text/plain": [
       "<Figure size 640x480 with 1 Axes>"
      ]
     },
     "metadata": {},
     "output_type": "display_data"
    }
   ],
   "source": [
    "plt.imshow(env.render())\n",
    "plt.savefig(\"test.png\")"
   ]
  },
  {
   "cell_type": "code",
   "execution_count": null,
   "metadata": {},
   "outputs": [],
   "source": []
  }
 ],
 "metadata": {
  "kernelspec": {
   "display_name": "PyTorchRL",
   "language": "python",
   "name": "python3"
  },
  "language_info": {
   "codemirror_mode": {
    "name": "ipython",
    "version": 3
   },
   "file_extension": ".py",
   "mimetype": "text/x-python",
   "name": "python",
   "nbconvert_exporter": "python",
   "pygments_lexer": "ipython3",
   "version": "3.11.0"
  }
 },
 "nbformat": 4,
 "nbformat_minor": 2
}
