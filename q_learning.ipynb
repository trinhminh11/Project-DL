{
 "cells": [
  {
   "cell_type": "code",
   "execution_count": 1,
   "metadata": {},
   "outputs": [
    {
     "name": "stdout",
     "output_type": "stream",
     "text": [
      "pygame 2.5.2 (SDL 2.28.2, Python 3.11.0)\n",
      "Hello from the pygame community. https://www.pygame.org/contribute.html\n"
     ]
    }
   ],
   "source": [
    "# Standard library imports\n",
    "import random\n",
    "from typing import Type\n",
    "\n",
    "# Third-party imports\n",
    "import torch\n",
    "from torch import Tensor, nn\n",
    "import torch.optim as optim\n",
    "import torch.nn.functional as F\n",
    "import numpy as np\n",
    "import gymnasium as gym\n",
    "from tqdm.notebook import tqdm_notebook as tqdm\n",
    "\n",
    "import gym_agent as ga\n",
    "\n",
    "# Local imports\n",
    "import utils"
   ]
  },
  {
   "cell_type": "code",
   "execution_count": 2,
   "metadata": {},
   "outputs": [],
   "source": [
    "n_games = 1000\n",
    "max_t = 1500\n",
    "n_envs = 1\n",
    "chkpt_dir = 'checkpoints/BetterCarRacing-v0/DQN'\n",
    "\n",
    "env_id = \"BetterCarRacing-v0\"\n",
    "\n",
    "seed = 110404\n",
    "\n",
    "die_if_grass = True"
   ]
  },
  {
   "cell_type": "code",
   "execution_count": 3,
   "metadata": {},
   "outputs": [],
   "source": [
    "gym.register(\n",
    "    id=env_id,\n",
    "    entry_point=\"better_car_racing:BetterCarRacing\",\n",
    "    max_episode_steps=max_t,\n",
    "    reward_threshold=900,\n",
    ")"
   ]
  },
  {
   "cell_type": "code",
   "execution_count": 4,
   "metadata": {},
   "outputs": [],
   "source": [
    "class DeepQNetwork(nn.Module):\n",
    "    def __init__(self, n_inp: int, features: list[int], n_actions: int):\n",
    "        super().__init__()\n",
    "\n",
    "        # Create a list of layer sizes including input, hidden, and output layers\n",
    "        layer_sizes = [n_inp] + features + [n_actions]\n",
    "\n",
    "        # Initialize an empty sequential container\n",
    "        self.net = nn.Sequential()\n",
    "\n",
    "        # Loop through the layer sizes to create the network\n",
    "        for i in range(len(layer_sizes) - 1):\n",
    "            # Add a linear layer\n",
    "            self.net.append(nn.Linear(layer_sizes[i], layer_sizes[i + 1]))\n",
    "            \n",
    "            # Add ReLU activation function for all layers except the last one\n",
    "            if i != len(layer_sizes) - 2:\n",
    "                self.net.append(nn.ReLU(inplace=True))\n",
    "\n",
    "    def forward(self, state: torch.Tensor) -> torch.Tensor:\n",
    "        # Pass the input state through the network\n",
    "        return self.net(state)"
   ]
  },
  {
   "cell_type": "code",
   "execution_count": 5,
   "metadata": {},
   "outputs": [],
   "source": [
    "class Policy(nn.Module):\n",
    "    def __init__(self, n_inp: int, features: list[int], n_actions: int, optimizer: Type[optim.Optimizer] = optim.Adam, lr: float = 5e-4, optimizer_kwargs: dict = None):\n",
    "        super().__init__()\n",
    "        self.network = DeepQNetwork(n_inp, features, n_actions)\n",
    "        self.target_network = DeepQNetwork(n_inp, features, n_actions)\n",
    "\n",
    "        if optimizer_kwargs is None:\n",
    "            optimizer_kwargs = {}\n",
    "        \n",
    "        self.optimizer = optimizer(self.network.parameters(), lr=lr, **optimizer_kwargs)\n",
    "\n",
    "    def forward(self, state: torch.Tensor) -> torch.Tensor:\n",
    "        return self.network(state)\n",
    "\n",
    "    def target_forward(self, state: torch.Tensor) -> torch.Tensor:\n",
    "        return self.target_network(state)\n",
    "\n",
    "    def soft_update(self, tau: float):\n",
    "        for target_param, param in zip(self.target_network.parameters(), self.network.parameters()):\n",
    "            target_param.data.copy_(tau * param.data + (1.0 - tau) * target_param.data)"
   ]
  },
  {
   "cell_type": "code",
   "execution_count": 6,
   "metadata": {},
   "outputs": [],
   "source": [
    "class DQN(ga.OffPolicyAgent):\n",
    "    policy: Policy\n",
    "    def __init__(\n",
    "            self, \n",
    "            policy, \n",
    "            env,    \n",
    "            action_space,\n",
    "            gamma = 0.99,\n",
    "            eps_start = 1.0,\n",
    "            eps_decay = 0.995,\n",
    "            eps_end = 0.01,\n",
    "            tau = 1e-3,\n",
    "            batch_size = 64, \n",
    "            update_every = 1, \n",
    "            device='auto', \n",
    "            seed=None\n",
    "        ):\n",
    "\n",
    "        super().__init__(policy, env, batch_size=batch_size, update_every=update_every, device=device, seed=seed)\n",
    "\n",
    "        self.action_space = action_space\n",
    "\n",
    "        self.gamma = gamma\n",
    "        self.eps_start = eps_start\n",
    "        self.eps_decay = eps_decay\n",
    "        self.eps_end = eps_end\n",
    "\n",
    "        # Soft update parameter\n",
    "        self.tau = tau\n",
    "\n",
    "        self.target_policy = policy\n",
    "\n",
    "        # Initialize epsilon for epsilon-greedy policy\n",
    "        self.eps = eps_start\n",
    "\n",
    "        self.soft_update(1)\n",
    "\n",
    "    def reset(self):\n",
    "        self.eps = max(self.eps_end, self.eps_decay * self.eps)\n",
    "\n",
    "    @torch.no_grad()\n",
    "    def predict(self, state: np.ndarray, deterministic = True) -> int:\n",
    "        # Determine epsilon value based on evaluation mode\n",
    "        if deterministic:\n",
    "            eps = 0\n",
    "        else:\n",
    "            eps = self.eps\n",
    "\n",
    "        # Epsilon-greedy action selection\n",
    "        if random.random() >= eps:\n",
    "            # Convert state to tensor and move to the appropriate device\n",
    "            state = torch.from_numpy(state).float().to(self.device)\n",
    "\n",
    "            # Set local model to evaluation mode\n",
    "            self.policy.eval()\n",
    "            # Get action values from the local model\n",
    "            action_value = self.policy.forward(state)\n",
    "            # Set local model back to training mode\n",
    "            self.policy.train()\n",
    "\n",
    "            # Return the action with the highest value\n",
    "            return np.argmax(action_value.cpu().data.numpy(), axis=1)\n",
    "        else:\n",
    "            # Return a random action from the action space\n",
    "            return [random.choice(self.action_space) for _ in range(state.shape[0])]\n",
    "\n",
    "        print(state.shape)\n",
    "\n",
    "    def learn(self, states: Tensor, actions: Tensor, rewards: Tensor, next_states: Tensor, terminals: Tensor):\n",
    "        \"\"\"\n",
    "        Update the value network using a batch of experience tuples.\n",
    "\n",
    "        Params\n",
    "        ======\n",
    "            states (Tensor): Batch of current states\n",
    "            actions (Tensor): Batch of actions taken\n",
    "            rewards (Tensor): Batch of rewards received\n",
    "            next_states (Tensor): Batch of next states\n",
    "            terminals (Tensor): Batch of terminal flags indicating episode end\n",
    "        \"\"\"\n",
    "\n",
    "        # Get the maximum predicted Q values for the next states from the target model\n",
    "        q_targets_next = self.policy.target_forward(next_states).detach().max(1)[0]\n",
    "        # Compute the Q targets for the current states\n",
    "        q_targets = rewards + (self.gamma * q_targets_next * (~terminals))\n",
    "\n",
    "        # Get the expected Q values from the local model\n",
    "        q_expected = self.policy.forward(states)\n",
    "\n",
    "        q_expected = q_expected.gather(1, actions.long()).squeeze(1)\n",
    "\n",
    "        # Compute the loss\n",
    "        loss = F.mse_loss(q_expected, q_targets)\n",
    "\n",
    "        # Minimize the loss\n",
    "        self.policy.optimizer.zero_grad()\n",
    "        loss.backward()\n",
    "        self.policy.optimizer.step()\n",
    "\n",
    "        # Update the target network\n",
    "        self.soft_update()\n",
    "\n",
    "    def soft_update(self, tau = None):\n",
    "        if tau is None:\n",
    "            tau = self.tau\n",
    "\n",
    "        self.policy.soft_update(tau)"
   ]
  },
  {
   "cell_type": "markdown",
   "metadata": {},
   "source": [
    "### Transform"
   ]
  },
  {
   "cell_type": "code",
   "execution_count": 7,
   "metadata": {},
   "outputs": [],
   "source": [
    "class StateTfm(ga.Transform):\n",
    "    def __init__(self):\n",
    "        super().__init__()\n",
    "\n",
    "        self.observation_space = gym.spaces.Box(\n",
    "            low=-np.inf, \n",
    "            high=np.inf, \n",
    "            shape=(n_envs, 14), \n",
    "            dtype=np.float32\n",
    "        )\n",
    "\n",
    "    def __call__(self, observation: dict[str, np.ndarray]) -> np.ndarray:\n",
    "        rays = observation['rays'].astype(np.float32)\n",
    "        vels = observation['vels'].astype(np.float32)\n",
    "        # pos_flag = observation['pos_flag'].astype(np.float32)\n",
    "\n",
    "        res = np.concatenate([rays, vels], axis=-1)\n",
    "        return res"
   ]
  },
  {
   "cell_type": "markdown",
   "metadata": {},
   "source": [
    "### train"
   ]
  },
  {
   "cell_type": "code",
   "execution_count": 28,
   "metadata": {},
   "outputs": [],
   "source": [
    "env = ga.make_vec(env_id, num_envs=n_envs, continuous=False, die_if_grass = die_if_grass)"
   ]
  },
  {
   "cell_type": "code",
   "execution_count": 29,
   "metadata": {},
   "outputs": [],
   "source": [
    "agent = DQN(\n",
    "    policy = Policy(14, [256, 256], 5).apply(utils.init_weights),\n",
    "    env = env,\n",
    "    action_space = list(range(5)),\n",
    "    gamma=0.99,\n",
    "    eps_start=1.0,\n",
    "    eps_decay=0.995,\n",
    "    eps_end=0.01,\n",
    "    tau=1e-3,\n",
    "    batch_size=64,\n",
    "    update_every=4,\n",
    "    device='auto',\n",
    "    seed=seed\n",
    ").to('cuda')\n"
   ]
  },
  {
   "cell_type": "code",
   "execution_count": 31,
   "metadata": {},
   "outputs": [
    {
     "data": {
      "text/plain": [
       "1500"
      ]
     },
     "execution_count": 31,
     "metadata": {},
     "output_type": "execute_result"
    }
   ],
   "source": [
    "agent.dummy_env.get_wrapper_attr(\"_max_episode_steps\")"
   ]
  },
  {
   "cell_type": "code",
   "execution_count": 11,
   "metadata": {},
   "outputs": [
    {
     "data": {
      "application/vnd.jupyter.widget-view+json": {
       "model_id": "1a2f4a42d50a4e24bcaa5a4e436bfcba",
       "version_major": 2,
       "version_minor": 0
      },
      "text/plain": [
       "  0%|          | 0/2000 [00:00<?, ?it/s]"
      ]
     },
     "metadata": {},
     "output_type": "display_data"
    }
   ],
   "source": [
    "scores = agent.fit(n_games=2000, deterministic=False, save_best=True, save_every=100, save_dir=chkpt_dir, progress_bar=tqdm)"
   ]
  },
  {
   "cell_type": "code",
   "execution_count": 12,
   "metadata": {},
   "outputs": [
    {
     "data": {
      "image/png": "[encoded data removed]",
      "text/plain": [
       "<Figure size 640x480 with 1 Axes>"
      ]
     },
     "metadata": {},
     "output_type": "display_data"
    }
   ],
   "source": [
    "utils.plotting(scores=scores['scores'], avg_scores=scores['mean_scores'])"
   ]
  },
  {
   "cell_type": "code",
   "execution_count": 29,
   "metadata": {},
   "outputs": [
    {
     "data": {
      "text/plain": [
       "744.9999999999985"
      ]
     },
     "execution_count": 29,
     "metadata": {},
     "output_type": "execute_result"
    }
   ],
   "source": [
    "env = ga.make(env_id, render_mode = 'human', continuous=False, die_if_grass = die_if_grass, lap_complete_percent = 1, render_ray=True)\n",
    "env.set_observation_transform(StateTfm())\n",
    "# env.reset()\n",
    "# env.set_reward_transform(RewardTfm())\n",
    "\n",
    "agent.load(chkpt_dir, \"best\")\n",
    "agent.play(env, stop_if_truncated=False)"
   ]
  },
  {
   "cell_type": "code",
   "execution_count": 15,
   "metadata": {},
   "outputs": [
    {
     "ename": "TypeError",
     "evalue": "'EnvWithTransform' object cannot be interpreted as an integer",
     "output_type": "error",
     "traceback": [
      "\u001b[0;31m---------------------------------------------------------------------------\u001b[0m",
      "\u001b[0;31mTypeError\u001b[0m                                 Traceback (most recent call last)",
      "Cell \u001b[0;32mIn[15], line 1\u001b[0m\n\u001b[0;32m----> 1\u001b[0m scores \u001b[38;5;241m=\u001b[39m \u001b[43magent\u001b[49m\u001b[38;5;241;43m.\u001b[39;49m\u001b[43mfit\u001b[49m\u001b[43m(\u001b[49m\u001b[43menv\u001b[49m\u001b[43m,\u001b[49m\u001b[43m \u001b[49m\u001b[38;5;241;43m1000\u001b[39;49m\u001b[43m,\u001b[49m\u001b[43m \u001b[49m\u001b[38;5;241;43m1000\u001b[39;49m\u001b[43m,\u001b[49m\u001b[43m \u001b[49m\u001b[38;5;28;43;01mFalse\u001b[39;49;00m\u001b[43m,\u001b[49m\u001b[43m \u001b[49m\u001b[38;5;28;43;01mFalse\u001b[39;49;00m\u001b[43m,\u001b[49m\u001b[43m \u001b[49m\u001b[43mchkpt_dir\u001b[49m\u001b[43m,\u001b[49m\u001b[43m \u001b[49m\u001b[43mtqdm\u001b[49m\u001b[43m)\u001b[49m\n",
      "File \u001b[0;32m~/Documents/code/Project/DL/Project/gym_agent/agent/agent_base.py:278\u001b[0m, in \u001b[0;36mOffPolicyAgent.fit\u001b[0;34m(self, total_timesteps, n_games, deterministic, save_best, save_every, save_dir, progress_bar, callbacks)\u001b[0m\n\u001b[1;32m    275\u001b[0m     \u001b[38;5;28;01mraise\u001b[39;00m \u001b[38;5;167;01mValueError\u001b[39;00m(\u001b[38;5;124m\"\u001b[39m\u001b[38;5;124mEither total_timesteps or n_games must be provided\u001b[39m\u001b[38;5;124m\"\u001b[39m)\n\u001b[1;32m    277\u001b[0m \u001b[38;5;28;01mif\u001b[39;00m total_timesteps:\n\u001b[0;32m--> 278\u001b[0m     \u001b[38;5;28;01mreturn\u001b[39;00m \u001b[38;5;28;43mself\u001b[39;49m\u001b[38;5;241;43m.\u001b[39;49m\u001b[43mfit_by_timesteps\u001b[49m\u001b[43m(\u001b[49m\u001b[43mtotal_timesteps\u001b[49m\u001b[43m,\u001b[49m\u001b[43m \u001b[49m\u001b[43mdeterministic\u001b[49m\u001b[43m,\u001b[49m\u001b[43m \u001b[49m\u001b[43msave_best\u001b[49m\u001b[43m,\u001b[49m\u001b[43m \u001b[49m\u001b[43msave_every\u001b[49m\u001b[43m,\u001b[49m\u001b[43m \u001b[49m\u001b[43msave_dir\u001b[49m\u001b[43m,\u001b[49m\u001b[43m \u001b[49m\u001b[43mprogress_bar\u001b[49m\u001b[43m,\u001b[49m\u001b[43m \u001b[49m\u001b[43mcallbacks\u001b[49m\u001b[43m)\u001b[49m\n\u001b[1;32m    279\u001b[0m \u001b[38;5;28;01melse\u001b[39;00m:\n\u001b[1;32m    280\u001b[0m     \u001b[38;5;28;01mreturn\u001b[39;00m \u001b[38;5;28mself\u001b[39m\u001b[38;5;241m.\u001b[39mfit_by_games(n_games, deterministic, save_best, save_every, save_dir, progress_bar, callbacks)\n",
      "File \u001b[0;32m~/Documents/code/Project/DL/Project/gym_agent/agent/agent_base.py:292\u001b[0m, in \u001b[0;36mOffPolicyAgent.fit_by_timesteps\u001b[0;34m(self, total_timesteps, deterministic, save_best, save_every, save_dir, progress_bar, callbacks)\u001b[0m\n\u001b[1;32m    289\u001b[0m mean_scores \u001b[38;5;241m=\u001b[39m []\n\u001b[1;32m    291\u001b[0m \u001b[38;5;66;03m# Use tqdm for progress bar if provided\u001b[39;00m\n\u001b[0;32m--> 292\u001b[0m loop: tqdm \u001b[38;5;241m=\u001b[39m progress_bar(\u001b[38;5;28;43mrange\u001b[39;49m\u001b[43m(\u001b[49m\u001b[43mtotal_timesteps\u001b[49m\u001b[43m)\u001b[49m) \u001b[38;5;28;01mif\u001b[39;00m progress_bar \u001b[38;5;28;01melse\u001b[39;00m \u001b[38;5;28mrange\u001b[39m(total_timesteps)\n\u001b[1;32m    294\u001b[0m episode \u001b[38;5;241m=\u001b[39m \u001b[38;5;241m0\u001b[39m\n\u001b[1;32m    296\u001b[0m start \u001b[38;5;241m=\u001b[39m \u001b[38;5;28;01mTrue\u001b[39;00m\n",
      "\u001b[0;31mTypeError\u001b[0m: 'EnvWithTransform' object cannot be interpreted as an integer"
     ]
    }
   ],
   "source": [
    "scores = agent.fit(env, 1000, 1000, False, False, chkpt_dir, tqdm)"
   ]
  },
  {
   "cell_type": "code",
   "execution_count": 8,
   "metadata": {},
   "outputs": [],
   "source": [
    "obs = env.reset()[0]"
   ]
  },
  {
   "cell_type": "code",
   "execution_count": 9,
   "metadata": {},
   "outputs": [],
   "source": [
    "import matplotlib.pyplot as plt"
   ]
  },
  {
   "cell_type": "code",
   "execution_count": 11,
   "metadata": {},
   "outputs": [
    {
     "data": {
      "image/png": "[encoded data removed]",
      "text/plain": [
       "<Figure size 640x480 with 1 Axes>"
      ]
     },
     "metadata": {},
     "output_type": "display_data"
    }
   ],
   "source": [
    "plt.imshow(env.render())\n",
    "plt.savefig(\"test.png\")"
   ]
  },
  {
   "cell_type": "code",
   "execution_count": null,
   "metadata": {},
   "outputs": [],
   "source": []
  }
 ],
 "metadata": {
  "kernelspec": {
   "display_name": "PyTorchRL",
   "language": "python",
   "name": "python3"
  },
  "language_info": {
   "codemirror_mode": {
    "name": "ipython",
    "version": 3
   },
   "file_extension": ".py",
   "mimetype": "text/x-python",
   "name": "python",
   "nbconvert_exporter": "python",
   "pygments_lexer": "ipython3",
   "version": "3.11.0"
  }
 },
 "nbformat": 4,
 "nbformat_minor": 2
}
